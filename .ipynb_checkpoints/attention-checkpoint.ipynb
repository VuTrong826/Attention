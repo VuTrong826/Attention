{
 "cells": [
  {
   "cell_type": "markdown",
   "metadata": {},
   "source": [
    "## Tìm Hiểu và Áp Dụng Cơ Chế Attention\n",
    "### Giới thiệu\n",
    "Trong phần này mình hướng dẫn các bạn cách cài đặt cơ chế attention trong bài toán seq2seq đơn giản hóa. \n",
    "\n",
    "Cơ chế attention chỉ đơn giản là trung bình có trọng số của những “thứ” mà chúng ta nghĩ nó cần thiết cho bài toán, điều đặc biệt là trọng số này do mô hình tự học được. Cụ thể, trong bài toán dịch máy ở ví dụ dưới, khi sử dụng cơ chế attention để phát sinh từ little, mình sẽ cần tính một vector context C là trung bình có trọng số của vector biểu diễn các từ mặt, trời, bé, nhỏ tương ứng với vector h1,h2,h3,h4, rồi sử dụng thêm vector context c này tại lúc dự đoán từ little, và nhớ rằng, trọng số này là các số scalar, được mô hình tự học \n",
    "\n",
    "![attention](https://github.com/pbcquoc/attention_tutorial/raw/master/img/attn_seq2seq.png)\n"
   ]
  },
  {
   "cell_type": "markdown",
   "metadata": {},
   "source": [
    "### Import thư viện\n",
    "Mình sử dụng thêm cái lib của keras để hỗ trợ tiền xử lý cho nhanh, và tập trung chủ yếu vào phần cài đặt cơ chế attention\n"
   ]
  },
  {
   "cell_type": "code",
   "execution_count": 1,
   "metadata": {
    "colab": {
     "base_uri": "https://localhost:8080/",
     "height": 35
    },
    "colab_type": "code",
    "id": "o43HsYMod3xO",
    "outputId": "867dbbd8-5404-4f06-9e07-d5a2fc4ed5ab"
   },
   "outputs": [
    {
     "name": "stderr",
     "output_type": "stream",
     "text": [
      "Using TensorFlow backend.\n"
     ]
    }
   ],
   "source": [
    "import pandas as pd\n",
    "import numpy as np\n",
    "from keras.preprocessing.text import Tokenizer\n",
    "from keras.preprocessing.sequence import pad_sequences\n",
    "import matplotlib.pyplot as plt\n",
    "import torch\n",
    "import torch.nn as nn\n",
    "import torch.nn.functional as F\n",
    "from torch import optim\n",
    "from torch.autograd import Variable\n",
    "from sklearn.model_selection import train_test_split\n",
    "import torch.utils.data\n",
    "import matplotlib.pyplot as plt\n",
    "import matplotlib.ticker as ticker\n",
    "from random import randint"
   ]
  },
  {
   "cell_type": "markdown",
   "metadata": {},
   "source": [
    "### Download tập huấn luyện\n",
    "Để minh họa cơ chế attention, mình sử dụng tập dataset tự phát sinh, với đầu vào là các câu biểu diễn ngày tháng năm của con người đọc, và nhãn là ngày tháng năm tương ứng do máy tính hiểu.\n",
    "\n",
    "Mình đã phát sinh tổng cộng 20k mẫu, trong đó 5k dùng để validation."
   ]
  },
  {
   "cell_type": "code",
   "execution_count": 2,
   "metadata": {
    "colab": {
     "base_uri": "https://localhost:8080/",
     "height": 35
    },
    "colab_type": "code",
    "id": "iDdQn4P6d3xl",
    "outputId": "957055c0-912b-469b-a78c-0c7e215b8c5c"
   },
   "outputs": [
    {
     "name": "stdout",
     "output_type": "stream",
     "text": [
      "data.csv  human_vocab.json  machine_vocab.json\n"
     ]
    }
   ],
   "source": [
    "! curl --silent -L -o data.zip \"https://drive.google.com/uc?export=download&id=1d6eUqRstk7NIpyASzbuIsDvBdHEwfU0g\"\n",
    "! unzip -q data.zip\n",
    "! ls data"
   ]
  },
  {
   "cell_type": "markdown",
   "metadata": {},
   "source": [
    "### Tiền xử lý\n",
    "Tập vocab mình xử dụng là các kí tự alphabet và số. Các bạn không cần phải filter, các kí tự đặt biệt trong tập dữ liệu"
   ]
  },
  {
   "cell_type": "code",
   "execution_count": 3,
   "metadata": {
    "colab": {
     "base_uri": "https://localhost:8080/",
     "height": 35
    },
    "colab_type": "code",
    "id": "17yzXiMWd3xp",
    "outputId": "39370600-b519-4d4d-bae7-79dd8fd38a27"
   },
   "outputs": [
    {
     "name": "stdout",
     "output_type": "stream",
     "text": [
      "train size: 18750 - test size: 6250\n"
     ]
    }
   ],
   "source": [
    "def load_data(path):\n",
    "    df = pd.read_csv(path, header=None)\n",
    "    X = df[0].values\n",
    "    y = df[1].values\n",
    "    x_tok = Tokenizer(char_level=True, filters='')\n",
    "    x_tok.fit_on_texts(X)\n",
    "    y_tok = Tokenizer(char_level=True, filters='')\n",
    "    y_tok.fit_on_texts(y)\n",
    "    \n",
    "    X = x_tok.texts_to_sequences(X)\n",
    "    y = y_tok.texts_to_sequences(y)\n",
    "    \n",
    "    X = pad_sequences(X)\n",
    "    y = np.asarray(y)\n",
    "    \n",
    "    return X, y, x_tok.word_index, y_tok.word_index\n",
    "\n",
    "X, y, x_wid, y_wid= load_data('data/data.csv')\n",
    "x_id2w = dict(zip(x_wid.values(), x_wid.keys()))\n",
    "y_id2w = dict(zip(y_wid.values(), y_wid.keys()))\n",
    "X_train, X_test, y_train, y_test = train_test_split(X, y)\n",
    "print('train size: {} - test size: {}'.format(len(X_train), len(X_test)))"
   ]
  },
  {
   "cell_type": "markdown",
   "metadata": {},
   "source": [
    "### Định nghĩa các tham số"
   ]
  },
  {
   "cell_type": "code",
   "execution_count": 4,
   "metadata": {
    "colab": {
     "base_uri": "https://localhost:8080/",
     "height": 35
    },
    "colab_type": "code",
    "id": "Fy7StSyzd3xz",
    "outputId": "b77edae4-f419-412a-dd33-fccf98786432"
   },
   "outputs": [
    {
     "name": "stdout",
     "output_type": "stream",
     "text": [
      "input vocab: 35 - output vocab: 13 - length of target: 10\n"
     ]
    }
   ],
   "source": [
    "# hidden size cho môt hình LSTM\n",
    "hidden_size = 128\n",
    "learning_rate = 0.001\n",
    "decoder_learning_ratio = 0.1\n",
    "\n",
    "# tập tự vựng của các câu đầu vào \n",
    "# +1 vì các bạn cần kí tự padding nhé!\n",
    "input_size = len(x_wid) + 1\n",
    "\n",
    "# +2 vì các bạn cần kí tự bắt đầu và kết thức\n",
    "output_size = len(y_wid) + 2\n",
    "# 2 kí tự này nằm ở cuối\n",
    "sos_idx = len(y_wid) \n",
    "eos_idx = len(y_wid) + 1\n",
    "\n",
    "max_length = y.shape[1]\n",
    "print(\"input vocab: {} - output vocab: {} - length of target: {}\".format(input_size, output_size, max_length))"
   ]
  },
  {
   "cell_type": "markdown",
   "metadata": {},
   "source": [
    "Chuyển sang dạng chuỗi kí tự đọc được từ chuỗi số"
   ]
  },
  {
   "cell_type": "code",
   "execution_count": 0,
   "metadata": {
    "colab": {},
    "colab_type": "code",
    "id": "2LksDULqd3x3"
   },
   "outputs": [],
   "source": [
    "def decoder_sentence(idxs, vocab):\n",
    "    text = ''.join([vocab[w] for w in idxs if (w > 0) and (w in vocab)])\n",
    "    return text"
   ]
  },
  {
   "cell_type": "markdown",
   "metadata": {},
   "source": [
    "## Định nghĩa mô hình\n",
    "Ở phần này, các bạn cần định nghĩa 3 mô hình nhỏ\n",
    "* Encoder: là một mô hình LSTM, dùng để học biểu diễn của câu\n",
    "* Attention: dùng để học cách kết hợp để tạo ra context vector\n",
    "* Decoder: là một mô hình LSTM, chúng ta sẽ kết hợp context vector vào mô hình này để dự đoán các từ tại mỗi thời điểm\n",
    "\n",
    "![model](https://github.com/pbcquoc/pbcquoc.github.io/raw/master/images/attn_seq2seq_attn.png)\n",
    "\n",
    "### Encoder\n",
    "Mô hình này nhận đầu vào là các câu, các bạn có thể xem các hidden state h1,h2,h3,h4 như các biểu diễn của mỗi từ, và muốn tổng hợp context vector trên những thông tin này. \n",
    "### Attention\n",
    "Mô hình này học các trọng số alpha trên các h1,h2,h3,h4 rồi sau đó tổng hợp context vector theo trung bình có trọng số alpha này\n",
    "### Decoder\n",
    "Ở thời điểm dự đoán, các bạn sử dụng thêm context vector để bổ sung thông tin cho mô hình. "
   ]
  },
  {
   "cell_type": "code",
   "execution_count": 0,
   "metadata": {
    "colab": {},
    "colab_type": "code",
    "id": "yVx1T2LJd3x6"
   },
   "outputs": [],
   "source": [
    "class Encoder(nn.Module):\n",
    "    def __init__(self, input_size, hidden_size):\n",
    "        super(Encoder, self).__init__()\n",
    "        self.hidden_size = hidden_size\n",
    "        # embedding vector của từ\n",
    "        self.embedding = nn.Embedding(input_size, hidden_size)\n",
    "        # mô hình GRU biến thể RNN để học vector biểu diễn của câu\n",
    "        self.gru = nn.GRU(hidden_size, hidden_size)\n",
    "    \n",
    "    def forward(self, input):\n",
    "        # input: SxB        \n",
    "        embedded = self.embedding(input)\n",
    "        output, hidden = self.gru(embedded)\n",
    "        return output, hidden # SxBxH, 1xBxH              \n",
    "\n",
    "class Attn(nn.Module):\n",
    "    def __init__(self, hidden_size):\n",
    "        super(Attn ,self).__init__()\n",
    "        \n",
    "    def forward(self, hidden, encoder_outputs):\n",
    "        ### Mô hình nhận trạng thái hidden hiện tại của mô hình decoder, \n",
    "        ### và các hidden states của mô hình encoder\n",
    "        # encoder_outputs: TxBxH\n",
    "        # hidden: SxBxH\n",
    "        \n",
    "        # tranpose về đúng shape để nhận ma trận\n",
    "        encoder_outputs = torch.transpose(encoder_outputs, 0, 1) #BxTxH\n",
    "        hidden = torch.transpose(torch.transpose(hidden, 0, 1), 1, 2) # BxHxS\n",
    "        # tính e, chính là tương tác giữ hidden và các trạng thái ẩn của mô hình encoder \n",
    "        energies = torch.bmm(encoder_outputs, hidden) # BxTxS\n",
    "        energies = torch.transpose(energies, 1, 2) # BxSxT\n",
    "        # tính alpha, chính là trọng số của trung bình có trọng số cần tính bằng hàm softmax\n",
    "        attn_weights = F.softmax(energies, dim=-1) #BxSxT\n",
    "        \n",
    "        # tính context vector bằng trung binh có trọng số\n",
    "        output = torch.bmm(attn_weights, encoder_outputs) # BxSxH\n",
    "        \n",
    "        # trả về chiều cần thiết\n",
    "        output = torch.transpose(output, 0, 1) # SxBxH\n",
    "        attn_weights = torch.transpose(attn_weights, 0, 1) #SxBxT\n",
    "        \n",
    "        # return context vector và các trọng số alpha cho mục đích biểu diễn cơ chế attention\n",
    "        return output, attn_weights\n",
    "    \n",
    "class Decoder(nn.Module):\n",
    "    def __init__(self, output_size, hidden_size, dropout):\n",
    "        super(Decoder, self).__init__()\n",
    "        self.hidden_size = hidden_size\n",
    "        self.output_size = output_size\n",
    "        \n",
    "        # vector biểu diễn cho các từ của output\n",
    "        self.embedding = nn.Embedding(output_size, hidden_size)\n",
    "        # định nghĩa mô hình attention ở trên\n",
    "        self.attn = Attn(hidden_size)\n",
    "        self.dropout = nn.Dropout(dropout)\n",
    "        # mô hình decoder là GRU\n",
    "        self.gru = nn.GRU(self.hidden_size, self.hidden_size)\n",
    "        \n",
    "        # dự đoán các từ tại mội thời điểm, chúng ta nối 2 vector hidden và context lại với nhau \n",
    "        self.concat = nn.Linear(self.hidden_size*2, hidden_size)        \n",
    "        self.out = nn.Linear(self.hidden_size, self.output_size)\n",
    "        \n",
    "    def forward(self, input, hidden, encoder_outputs):\n",
    "        # input: SxB\n",
    "        # encoder_outputs: BxSxH\n",
    "        # hidden: 1xBxH\n",
    "        embedded = self.embedding(input) # 1xBxH\n",
    "        embedded = self.dropout(embedded)\n",
    "        \n",
    "        # biểu diễn của câu\n",
    "        rnn_output, hidden = self.gru(embedded, hidden)  #SxBxH, 1xBxH\n",
    "        # tính context vector dựa trên các hidden states\n",
    "        context, attn_weights = self.attn(rnn_output, encoder_outputs) # SxBxH\n",
    "        \n",
    "        # nối hidden state của mô hình decoder hiện tại và context vector để dự đoán \n",
    "        concat_input = torch.cat((rnn_output, context), -1)\n",
    "        concat_output = torch.tanh(self.concat(concat_input)) #SxBxH\n",
    "        \n",
    "        # dự đoán kết quả tại mỗi thời điểm\n",
    "        output = self.out(concat_output) # SxBxoutput_size\n",
    "        return output, hidden, attn_weights\n",
    "\n"
   ]
  },
  {
   "cell_type": "markdown",
   "metadata": {},
   "source": [
    "### Kiểm tra\n",
    "Chúng ta khởi tạo mô hình để kiểm tra xem mô hình có chạy được không, ít nhất là không bị lỗi về tính toán"
   ]
  },
  {
   "cell_type": "code",
   "execution_count": 0,
   "metadata": {
    "colab": {},
    "colab_type": "code",
    "id": "ArLtO8rsd3yA"
   },
   "outputs": [],
   "source": [
    "encoder = Encoder(input_size, hidden_size)\n",
    "decoder = Decoder(output_size, hidden_size, 0.1)\n",
    "\n",
    "# Initialize optimizers and criterion\n",
    "encoder_optimizer = optim.Adam(encoder.parameters(), lr=learning_rate)\n",
    "decoder_optimizer = optim.Adam(decoder.parameters(), lr=learning_rate * decoder_learning_ratio)\n",
    "criterion = nn.CrossEntropyLoss()\n",
    "\n",
    "\n",
    "input_encoder = torch.randint(1, input_size, (34, 6), dtype=torch.long)\n",
    "encoder_outputs, hidden = encoder(input_encoder)\n",
    "input_decoder = torch.randint(1, output_size, (10, 6), dtype=torch.long)\n",
    "output, hidden, attn_weights = decoder(input_decoder, hidden, encoder_outputs)"
   ]
  },
  {
   "cell_type": "markdown",
   "metadata": {},
   "source": [
    "## Train/test\n",
    "Phần này chúng ta định nghĩa một số hàm để huấn luyện, dự đoán mô hình "
   ]
  },
  {
   "cell_type": "code",
   "execution_count": 6,
   "metadata": {
    "colab": {},
    "colab_type": "code",
    "id": "TnARQv5td3yG"
   },
   "outputs": [
    {
     "ename": "NameError",
     "evalue": "name 'max_length' is not defined",
     "output_type": "error",
     "traceback": [
      "\u001b[0;31m---------------------------------------------------------------------------\u001b[0m",
      "\u001b[0;31mNameError\u001b[0m                                 Traceback (most recent call last)",
      "\u001b[0;32m<ipython-input-6-b4b93bfd01d8>\u001b[0m in \u001b[0;36m<module>\u001b[0;34m\u001b[0m\n\u001b[1;32m     57\u001b[0m     \u001b[0;32mreturn\u001b[0m \u001b[0meval_loss\u001b[0m\u001b[0;34m.\u001b[0m\u001b[0mitem\u001b[0m\u001b[0;34m(\u001b[0m\u001b[0;34m)\u001b[0m\u001b[0;34m,\u001b[0m \u001b[0mpred_idx\u001b[0m\u001b[0;34m\u001b[0m\u001b[0m\n\u001b[1;32m     58\u001b[0m \u001b[0;34m\u001b[0m\u001b[0m\n\u001b[0;32m---> 59\u001b[0;31m \u001b[0;32mdef\u001b[0m \u001b[0mpredict\u001b[0m\u001b[0;34m(\u001b[0m\u001b[0minputs\u001b[0m\u001b[0;34m,\u001b[0m \u001b[0mencoder\u001b[0m\u001b[0;34m,\u001b[0m \u001b[0mdecoder\u001b[0m\u001b[0;34m,\u001b[0m \u001b[0mtarget_length\u001b[0m\u001b[0;34m=\u001b[0m\u001b[0mmax_length\u001b[0m\u001b[0;34m)\u001b[0m\u001b[0;34m:\u001b[0m\u001b[0;34m\u001b[0m\u001b[0m\n\u001b[0m\u001b[1;32m     60\u001b[0m     \u001b[0;31m### Lúc dự đoán chúng ta cần tính kết quả ngay lập tức tại mỗi thời điểm, rồi sau đó dừng từ được dự đoán để tính từ tiếp theo\u001b[0m\u001b[0;34m\u001b[0m\u001b[0;34m\u001b[0m\u001b[0m\n\u001b[1;32m     61\u001b[0m \u001b[0;34m\u001b[0m\u001b[0m\n",
      "\u001b[0;31mNameError\u001b[0m: name 'max_length' is not defined"
     ]
    }
   ],
   "source": [
    "def forward_and_compute_loss(inputs, targets, encoder, decoder, criterion):\n",
    "    batch_size = inputs.size()[1]\n",
    "    \n",
    "    # định nghĩa 2 kí tự bắt đầu và kết thúc\n",
    "    sos = Variable(torch.ones((1, batch_size), dtype=torch.long)*sos_idx)\n",
    "    eos = Variable(torch.ones((1, batch_size), dtype=torch.long)*eos_idx)\n",
    "    \n",
    "    # input của mô hình decoder phải thêm kí tự bắt đầu\n",
    "    decoder_inputs = torch.cat((sos, targets), dim=0)\n",
    "    # output cần dự đoán của mô hình decoder phải thêm kí tự kết thúc\n",
    "    decoder_targets = torch.cat((targets, eos), dim=0)\n",
    "    \n",
    "    # forward tính hidden states của câu\n",
    "    encoder_outputs, encoder_hidden = encoder(inputs)\n",
    "    # tính output của mô hình decoder\n",
    "    output, hidden, attn_weights = decoder(decoder_inputs, encoder_hidden, encoder_outputs)\n",
    "    \n",
    "    output = torch.transpose(torch.transpose(output, 0, 1), 1, 2) # BxCxS\n",
    "    decoder_targets = torch.transpose(decoder_targets, 0, 1)\n",
    "    # tính loss \n",
    "    loss = criterion(output, decoder_targets)\n",
    "    \n",
    "    return loss, output\n",
    "\n",
    "def train(inputs, targets,  encoder, decoder, encoder_optimizer, decoder_optimizer, criterion):\n",
    "    # khai báo train để mô hình biết là đang train hay test\n",
    "    encoder.train()\n",
    "    decoder.train()\n",
    "    \n",
    "    # zero gradient, phải làm mỗi khi cập nhất gradient\n",
    "    encoder_optimizer.zero_grad()\n",
    "    decoder_optimizer.zero_grad()\n",
    "    \n",
    "    # tính loss dựa vào hàm đã định nghĩa ở trên\n",
    "    train_loss, output = forward_and_compute_loss(inputs, targets,encoder, decoder,criterion)    \n",
    "    \n",
    "    train_loss.backward()\n",
    "    # cập nhật một step\n",
    "    encoder_optimizer.step()\n",
    "    decoder_optimizer.step()\n",
    "    \n",
    "    # return loss để print :D\n",
    "    return train_loss.item()\n",
    "\n",
    "def evaluate(inputs, targets, encoder, decoder, criterion):\n",
    "    # báo cho mô hình biết đang test/eval\n",
    "    encoder.eval()\n",
    "    decoder.eval()\n",
    "    # tính loss\n",
    "    eval_loss, output = forward_and_compute_loss(inputs, targets, encoder, decoder,criterion)\n",
    "    output = torch.transpose(output, 1, 2)\n",
    "    # dự đoán của mỗi thời điểm các vị trí có prob lớn nhất\n",
    "    pred_idx = torch.argmax(output, dim=-1).squeeze(-1)\n",
    "    pred_idx = pred_idx.data.cpu().numpy()\n",
    "    \n",
    "    # return loss và kết quả dự đoán\n",
    "    return eval_loss.item(), pred_idx\n",
    "\n",
    "def predict(inputs, encoder, decoder, target_length=max_length):\n",
    "    ### Lúc dự đoán chúng ta cần tính kết quả ngay lập tức tại mỗi thời điểm, \n",
    "    ### rồi sau đó dừng từ được dự đoán để tính từ tiếp theo        \n",
    "    batch_size = inputs.size()[1]\n",
    "    \n",
    "    # input đầu tiên của mô hình decoder là kí tự bắt đầu, chúng ta dự đoán kí tự tiếp theo, sau đó lại dùng kí tự này để dự đoán từ kế tiếp\n",
    "    decoder_inputs = Variable(torch.ones((1, batch_size), dtype=torch.long)*sos_idx)\n",
    "    \n",
    "    # tính hidden state của mô hình encoder, cũng là vector biểu diễn của các từ, chúng ta cần tính context vector dựa trên những hidden states này\n",
    "    encoder_outputs, encoder_hidden = encoder(inputs)\n",
    "    hidden = encoder_hidden\n",
    "    \n",
    "    preds = []\n",
    "    attn_weights = []\n",
    "    # chúng ta tính từng từ tại mỗi thời điểm\n",
    "    for i in range(target_length):\n",
    "        # dự đoán từ đầu tiên\n",
    "        output, hidden, attn_weight = decoder(decoder_inputs, hidden, encoder_outputs)\n",
    "        output = output.squeeze(dim=0)\n",
    "        pred_idx = torch.argmax(output, dim=-1)\n",
    "        \n",
    "        # thay đổi input tiếp theo bằng từ vừa được dự đoán\n",
    "        decoder_inputs = Variable(torch.ones((1, batch_size), dtype=torch.long)*pred_idx)\n",
    "        preds.append(decoder_inputs)\n",
    "        attn_weights.append(attn_weight.detach())\n",
    "    \n",
    "    preds = torch.cat(preds, dim=0)\n",
    "    preds = torch.transpose(preds, 0, 1)\n",
    "    attn_weights = torch.cat(attn_weights, dim=0)\n",
    "    attn_weights = torch.transpose(attn_weights, 0, 1)\n",
    "    return preds, attn_weights"
   ]
  },
  {
   "cell_type": "markdown",
   "metadata": {
    "colab": {
     "base_uri": "https://localhost:8080/",
     "height": 35
    },
    "colab_type": "code",
    "id": "l-h8o5Rtd3yW",
    "outputId": "244ec330-69d5-49f9-8256-c2ab12b6bdfe"
   },
   "source": [
    "### Train và eval\n",
    "Trong phần này, chúng ta train mô hình, cũng như theo dõi độ lỗi, kết quả dự đoán tại mỗi epoch. "
   ]
  },
  {
   "cell_type": "code",
   "execution_count": 10,
   "metadata": {
    "colab": {
     "base_uri": "https://localhost:8080/",
     "height": 725
    },
    "colab_type": "code",
    "id": "Fyfzas04d3yZ",
    "outputId": "7da23839-0161-4916-e023-8bed89f11b8d"
   },
   "outputs": [
    {
     "name": "stdout",
     "output_type": "stream",
     "text": [
      "Epoch 0 - train loss: 0.381 - eval loss: 0.341\n",
      " 10 03 17                           \t1017-03-10\n",
      " 11 thg 6 2004                      \t2004-06-11\n",
      " 01 thg 1 1982                      \t1982-01-01\n",
      "Epoch 1 - train loss: 0.044 - eval loss: 0.041\n",
      " 2 tháng 9 1994                     \t1994-09-02\n",
      " thứ năm, ngày 15 tháng 11 năm 2012 \t 2012-1115\n",
      " 9 thg 3, 1987                      \t1987-03-09\n",
      "Epoch 2 - train loss: 0.020 - eval loss: 0.017\n",
      " 15.04.03                           \t2003-04-15\n",
      " 24 06 96                           \t1996-06-24\n",
      " 21 tháng 1 2013                    \t2013-01-21\n",
      "Epoch 3 - train loss: 0.010 - eval loss: 0.009\n",
      " thứ hai, ngày 07 tháng 5 năm 1984  \t1984-05-07\n",
      " 4 thg 4, 1984                      \t1984-04-04\n",
      " ngày 25 tháng 11 năm 1990          \t1990-11-25\n",
      "Epoch 4 - train loss: 0.008 - eval loss: 0.008\n",
      " 23 thg 2 2003                      \t2003-02-23\n",
      " 15 thg 1, 2015                     \t2015-01-15\n",
      " 24/07/1986                         \t1986-07-24\n",
      "Epoch 5 - train loss: 0.004 - eval loss: 0.004\n",
      " 22 tháng 12 2002                   \t2002-12-22\n",
      " 20 thg 5, 2003                     \t2003-05-20\n",
      " thứ ba, ngày 06 tháng 8 năm 1991   \t1991-08-06\n",
      "Epoch 6 - train loss: 0.005 - eval loss: 0.003\n",
      " 6 thg 12 2009                      \t2009-12-06\n",
      " ngày 12 tháng 10 năm 1972          \t1972-10-12\n",
      " 10 thg 5, 1974                     \t1974-05-10\n",
      "Epoch 7 - train loss: 0.002 - eval loss: 0.002\n",
      " 4 tháng 1, 2001                    \t2001-01-04\n",
      " 22 thg 8 1972                      \t1972-08-22\n",
      " 16 thg 8 1997                      \t1997-08-16\n",
      "Epoch 8 - train loss: 0.002 - eval loss: 0.002\n",
      " tháng 11 13, 1981                  \t1981-11-13\n",
      " 15 thg 6, 1994                     \t1994-06-15\n",
      " 29 thg 10, 1996                    \t1996-10-29\n",
      "Epoch 9 - train loss: 0.003 - eval loss: 0.001\n",
      " 9 thg 9, 2012                      \t2012-09-09\n",
      " 17.11.01                           \t2001-11-17\n",
      " 17 tháng 11, 1971                  \t1971-11-17\n"
     ]
    }
   ],
   "source": [
    "epochs = 10\n",
    "batch_size = 64\n",
    "\n",
    "encoder = Encoder(input_size, hidden_size)\n",
    "decoder = Decoder(output_size, hidden_size, 0.1)\n",
    "\n",
    "# Initialize optimizers and criterion\n",
    "encoder_optimizer = optim.Adam(encoder.parameters(), lr=learning_rate)\n",
    "decoder_optimizer = optim.Adam(decoder.parameters(), lr=learning_rate * decoder_learning_ratio)\n",
    "criterion = nn.CrossEntropyLoss()\n",
    "\n",
    "X_val = torch.tensor(X_test, dtype=torch.long)\n",
    "y_val = torch.tensor(y_test, dtype=torch.long)\n",
    "X_val = torch.transpose(X_val, 0, 1)\n",
    "y_val = torch.transpose(y_val, 0, 1)\n",
    "\n",
    "for epoch in range(epochs):\n",
    "    for idx in range(len(X_train)//batch_size):\n",
    "        # input đầu vào của chúng ta là timestep first nhé. \n",
    "        X_train_batch = torch.tensor(X_train[batch_size*idx:batch_size*(idx+1)], dtype=torch.long)\n",
    "        y_train_batch = torch.tensor(y_train[batch_size*idx:batch_size*(idx+1)], dtype=torch.long)\n",
    "        \n",
    "        X_train_batch = torch.transpose(X_train_batch, 0, 1)\n",
    "        y_train_batch = torch.transpose(y_train_batch, 0, 1)\n",
    "        train_loss= train(X_train_batch, y_train_batch, encoder, decoder, encoder_optimizer, decoder_optimizer, criterion)\n",
    "    eval_loss, preds = evaluate(X_val, y_val, encoder, decoder, criterion)\n",
    "    \n",
    "    print('Epoch {} - train loss: {:.3f} - eval loss: {:.3f}'.format(epoch, train_loss, eval_loss))\n",
    "    print_idx = np.random.randint(0, len(preds), 3)\n",
    "    for i in print_idx:\n",
    "        x_val = decoder_sentence(X_val[:,i].numpy(), x_id2w)\n",
    "        y_pred = decoder_sentence(preds[i], y_id2w)\n",
    "        print(\" {:<35s}\\t{:>10}\".format(x_val, y_pred))"
   ]
  },
  {
   "cell_type": "markdown",
   "metadata": {},
   "source": [
    "## Predict\n",
    "Chúng ta dự đoán một vài mẫu và phân tích một số kết quả của cơ chế attention"
   ]
  },
  {
   "cell_type": "code",
   "execution_count": 0,
   "metadata": {
    "colab": {},
    "colab_type": "code",
    "id": "NglXGh77d3yc"
   },
   "outputs": [],
   "source": [
    "preds, attn_weights = predict(X_val ,encoder, decoder, target_length=10)"
   ]
  },
  {
   "cell_type": "code",
   "execution_count": 0,
   "metadata": {
    "colab": {},
    "colab_type": "code",
    "id": "vRMILrf6d3yj"
   },
   "outputs": [],
   "source": [
    "def show_attention(input_sentence, output_words, attentions):\n",
    "    # Set up figure with colorbar\n",
    "    fig = plt.figure()\n",
    "    ax = fig.add_subplot(111)\n",
    "    cax = ax.matshow(attentions.numpy(), cmap='bone')\n",
    "    fig.colorbar(cax)\n",
    "\n",
    "    # Set up axes\n",
    "    ax.set_xticks(np.arange(len(input_sentence)))\n",
    "    ax.set_xticklabels(list(input_sentence), rotation=90)\n",
    "    ax.set_yticks(np.arange(len(output_words)))\n",
    "    ax.set_yticklabels(list(output_words))\n",
    "    ax.grid()\n",
    "    ax.set_xlabel('Input Sequence')\n",
    "    ax.set_ylabel('Output Sequence')\n",
    "    plt.show()"
   ]
  },
  {
   "cell_type": "markdown",
   "metadata": {},
   "source": [
    "Chọn ngẫu nhiên một câu trong tập validation để hiển thị. Khi hiển thị cơ chế attention, chúng ta có một cái nhìn về quá trình dự đoán của mô hình rõ ràng hơn, giúp đánh giá có thể interpretable hơn. "
   ]
  },
  {
   "cell_type": "code",
   "execution_count": 27,
   "metadata": {
    "colab": {
     "base_uri": "https://localhost:8080/",
     "height": 336
    },
    "colab_type": "code",
    "id": "eFJvKjnOLL9W",
    "outputId": "05ac40f8-92be-47ff-95a2-5594eb53cfc1"
   },
   "outputs": [
    {
     "data": {
      "image/png": "[encoded data removed]",
      "text/plain": [
       "<Figure size 576x396 with 2 Axes>"
      ]
     },
     "metadata": {
      "tags": []
     },
     "output_type": "display_data"
    }
   ],
   "source": [
    "show_idx = randint(0, len(preds))\n",
    "text_x = decoder_sentence(X_val[:,show_idx].numpy(), x_id2w)\n",
    "text_y = decoder_sentence(preds[show_idx].numpy(), y_id2w)\n",
    "attn_weight = attn_weights[show_idx, :, -len(text_x):]\n",
    "show_attention(text_x, text_y, attn_weight)"
   ]
  }
 ],
 "metadata": {
  "accelerator": "GPU",
  "colab": {
   "collapsed_sections": [],
   "name": "attention.ipynb",
   "provenance": [],
   "version": "0.3.2"
  },
  "kernelspec": {
   "display_name": "Python 3",
   "language": "python",
   "name": "python3"
  },
  "language_info": {
   "codemirror_mode": {
    "name": "ipython",
    "version": 3
   },
   "file_extension": ".py",
   "mimetype": "text/x-python",
   "name": "python",
   "nbconvert_exporter": "python",
   "pygments_lexer": "ipython3",
   "version": "3.6.6"
  }
 },
 "nbformat": 4,
 "nbformat_minor": 1
}
